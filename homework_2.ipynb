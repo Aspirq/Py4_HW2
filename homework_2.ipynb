{
 "cells": [
  {
   "cell_type": "markdown",
   "metadata": {},
   "source": [
    "# Мягкий дедлайн: 4 июля, жесткий дедлайн: 6 июля"
   ]
  },
  {
   "cell_type": "markdown",
   "metadata": {},
   "source": [
    "## Задание 1"
   ]
  },
  {
   "cell_type": "markdown",
   "metadata": {},
   "source": [
    "- Напишите функцию, которая печатает \"hello world!\"\n",
    "- Поместите ее в отдельный модуль и импортируйте из него\n",
    "- Найдите Magic, который записывает значение ячейки в файл"
   ]
  },
  {
   "cell_type": "code",
   "execution_count": 1,
   "metadata": {},
   "outputs": [
    {
     "name": "stdout",
     "output_type": "stream",
     "text": [
      "The following commands were written to file `helloword_cell.py`:\n",
      "get_ipython().run_line_magic('save', '-f helloword_cell.py 1-5')\n",
      "from helloword import HelloWord\n",
      "\n",
      "a = HelloWord()\n",
      "print (a.hw_string)\n",
      "Привет мир!\n"
     ]
    }
   ],
   "source": [
    "%save -f helloword_cell.py 1-5\n",
    "from helloword import HelloWord\n",
    "\n",
    "a = HelloWord()\n",
    "print (a.hw_string)"
   ]
  },
  {
   "cell_type": "markdown",
   "metadata": {},
   "source": [
    "## Задание 2"
   ]
  },
  {
   "cell_type": "markdown",
   "metadata": {},
   "source": [
    "- Создайте двумерную матрицу, получив значения при помощи np.arange\n",
    "- Аргумент b может быть еще одной матрицей\n",
    "- Допишите калькулятор, который возвращает нужное значение в зависимости от переданной операции и количества аргументов"
   ]
  },
  {
   "cell_type": "code",
   "execution_count": 2,
   "metadata": {},
   "outputs": [],
   "source": [
    "import numpy as np\n",
    "\n",
    "a = np.arange(1, 36, 3.1).reshape(3, 4)\n",
    "b = np.arange(27, 1, -3.1).reshape(3, 3)\n",
    "\n",
    "def calculate(a, b=None, func=\"+\"):\n",
    "    if func == \"+\":\n",
    "        return a + b\n",
    "    if func == \"-\":\n",
    "        return a - b\n",
    "    if func == \"**\":\n",
    "        return a ** b\n",
    "    if func == \"*\":\n",
    "        return a * b\n",
    "    if func == \"/\":\n",
    "        return a / b\n",
    "    \n",
    "    # T - операция транспонирования\n",
    "    if func == \"T\":\n",
    "        return a.T\n",
    "    \n",
    "    # увеличвает на 1 ДИАГОНАЛЬНЫЕ элементы, если матрица квадратная, иначе возвращает исходную матрицу\n",
    "    if func == \"increment\":\n",
    "        if ((len(a.shape) == 2) and (a.shape[0] == a.shape[1])):\n",
    "            np.fill_diagonal(a, a.diagonal()+1.)\n",
    "        return a"
   ]
  },
  {
   "cell_type": "markdown",
   "metadata": {},
   "source": [
    "Проверить свой код можно при помощи assert"
   ]
  },
  {
   "cell_type": "code",
   "execution_count": 3,
   "metadata": {},
   "outputs": [],
   "source": [
    "example = np.array([[1, 2, 3], [4, 5, 6], [7, 8, 9]])\n",
    "sample_vec = np.array([2, 4, 10])\n",
    "\n",
    "assert np.array_equal(calculate(example, sample_vec, \"/\"), \n",
    "                      np.array([[ 0.5 ,  0.5 ,  0.3 ], [ 2.  ,  1.25,  0.6 ], [ 3.5 ,  2.  ,  0.9 ]]))\n",
    "\n",
    "assert np.array_equal(calculate(example, 20, \"/\"), np.array([[ 0.05,  0.1 ,  0.15],\n",
    "                                                             [ 0.2 ,  0.25,  0.3 ],\n",
    "                                                             [ 0.35,  0.4 ,  0.45]]))\n",
    "assert np.array_equal(calculate(example, 20, \"+\"), np.array([[21, 22, 23],\n",
    "                                                             [24, 25, 26],\n",
    "                                                             [27, 28, 29]]))\n",
    "assert np.array_equal(calculate(example, sample_vec, \"+\"), np.array([[ 3,  6, 13],\n",
    "                                                                     [ 6,  9, 16],\n",
    "                                                                     [ 9, 12, 19]]))\n",
    "assert np.array_equal(calculate(example, 20, \"*\"), np.array([[ 20,  40,  60],\n",
    "                                                             [ 80, 100, 120],\n",
    "                                                             [140, 160, 180]]))\n",
    "assert np.array_equal(calculate(example, sample_vec, \"*\"), np.array([[ 2,  8, 30],\n",
    "                                                                     [ 8, 20, 60],\n",
    "                                                                     [14, 32, 90]]))\n",
    "assert np.array_equal(calculate(example, 20, \"-\"), np.array([[-19, -18, -17],\n",
    "                                                             [-16, -15, -14],\n",
    "                                                             [-13, -12, -11]]))\n",
    "assert np.array_equal(calculate(example, sample_vec, \"-\"), np.array([[-1, -2, -7],\n",
    "                                                                     [ 2,  1, -4],\n",
    "                                                                     [ 5,  4, -1]]))\n",
    "assert np.array_equal(calculate(example, func=\"T\"), np.array([[1, 4, 7],\n",
    "                                                              [2, 5, 8],\n",
    "                                                              [3, 6, 9]]))\n",
    "assert np.array_equal(calculate(example, sample_vec, \"**\"), np.array([[         1,         16,      59049],\n",
    "                                                                [        16,        625,   60466176],\n",
    "                                                                [        49,       4096, 3486784401]]))\n",
    "\n",
    "assert np.array_equal(calculate(example, 20, \"**\"), np.array([[1, 1048576, 3486784401],\n",
    "                                                              [1099511627776, 95367431640625, 3656158440062976],\n",
    "                                                              [   79792266297612001,  1152921504606846976, -6289078614652622815]]))\n",
    "\n",
    "assert np.array_equal(calculate(example, func=\"increment\"), np.array([[ 2.,  2.,  3.],\n",
    "                                                                      [ 4.,  6.,  6.],\n",
    "                                                                      [ 7.,  8., 10.]]))\n",
    "assert np.array_equal(calculate(sample_vec, func=\"increment\"), sample_vec)"
   ]
  },
  {
   "cell_type": "markdown",
   "metadata": {},
   "source": [
    "- почему отрицательное число в третьем снизу примере?"
   ]
  },
  {
   "cell_type": "markdown",
   "metadata": {},
   "source": [
    "### Ответ\n",
    "Отрицательное число получается так как происходит переполнение, \n",
    "а именно: (9^20 = 12157665459056928801) что в свою очередь в бинарном виде будет (0 10101000 10111000 10110100 01010010 00101001 00011111 11101000 00100001, первый байт это знак) итого 65 байт, что не умещается в int64, в данной ситуации правильнее было бы выдать ошибку, но numpy почемуто взял последние 64 байта (1 0101000 10111000 10110100 01010010 00101001 00011111 11101000 00100001) и перевел в целое и получил = -6289078614652622815"
   ]
  },
  {
   "cell_type": "markdown",
   "metadata": {},
   "source": [
    "## Дополнительные задания"
   ]
  },
  {
   "cell_type": "markdown",
   "metadata": {},
   "source": [
    "- Для создания матрицы размера 10х10 используйте нормальное распределение\n",
    "- Найдите определитель матрицы"
   ]
  },
  {
   "cell_type": "code",
   "execution_count": 4,
   "metadata": {
    "scrolled": false
   },
   "outputs": [
    {
     "name": "stdout",
     "output_type": "stream",
     "text": [
      "Матрица:\n",
      "[[-1.79028391 -1.44530071  0.28987395 -0.11187127  0.60819293  0.9282401\n",
      "   1.11787588  0.57956676  0.14941174  0.95363163]\n",
      " [ 0.43785294 -2.1059344   0.19608596  0.08450354 -0.23103861 -1.537919\n",
      "  -0.29573154  1.5306118  -0.61210899  0.59032393]\n",
      " [-1.02598364  0.8918275   1.11662269 -0.54350877  0.8065494   0.33520183\n",
      "  -1.16464947  1.11524047  0.17522306  0.25047324]\n",
      " [-0.86480332  1.50046859  0.09764341  0.07578169  0.10766286  0.43348633\n",
      "  -0.4567354   0.99047223 -1.76455113  0.09640323]\n",
      " [-0.02332261  0.28741547 -0.74631416  0.86836678  1.20529948 -1.05772532\n",
      "   0.56975075 -0.57625569 -0.79786078  0.48491452]\n",
      " [-0.01496551  1.24594605  1.30357291 -0.61653904  1.23322154  1.0777717\n",
      "   0.19442531  1.64830494  0.17369241  0.47295068]\n",
      " [-0.19000327  1.39274643  1.3279074  -0.39437818 -0.4730558  -0.28777969\n",
      "  -0.1230698   1.69995352  0.06554054 -0.49967052]\n",
      " [ 1.59829135 -0.18328086  0.61011578 -0.84726808 -0.3138108   0.36938001\n",
      "  -0.22470139 -1.47919375 -0.65677039  1.52507017]\n",
      " [-1.81446968  0.05338779 -0.37190514 -0.60428694  1.08626108 -1.82815932\n",
      "  -0.81202144 -0.27768131 -2.32264899 -1.8327261 ]\n",
      " [ 0.83167108  0.75788278  1.1461462   0.82880132  1.85468924 -1.19012682\n",
      "  -0.60756395 -0.8392435  -1.79499969 -0.01691216]]\n",
      " Определитель матрицы: -3087.068719287033\n"
     ]
    }
   ],
   "source": [
    "normal_array = np.random.randn(10, 10)\n",
    "print (\"Матрица:\")\n",
    "print (normal_array)\n",
    "print( f\" Определитель матрицы: {np.linalg.det(normal_array)}\")"
   ]
  }
 ],
 "metadata": {
  "kernelspec": {
   "display_name": "Python 3",
   "language": "python",
   "name": "python3"
  },
  "language_info": {
   "codemirror_mode": {
    "name": "ipython",
    "version": 3
   },
   "file_extension": ".py",
   "mimetype": "text/x-python",
   "name": "python",
   "nbconvert_exporter": "python",
   "pygments_lexer": "ipython3",
   "version": "3.7.5"
  }
 },
 "nbformat": 4,
 "nbformat_minor": 4
}
